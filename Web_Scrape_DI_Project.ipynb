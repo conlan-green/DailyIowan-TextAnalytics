{
 "cells": [
  {
   "cell_type": "code",
   "execution_count": 1,
   "metadata": {},
   "outputs": [],
   "source": [
    "import requests\n",
    "from bs4 import BeautifulSoup"
   ]
  },
  {
   "cell_type": "markdown",
   "metadata": {},
   "source": [
    "Make sure to update the \"Outcome/HTMLs\" to fit your file structure"
   ]
  },
  {
   "cell_type": "code",
   "execution_count": 6,
   "metadata": {
    "scrolled": true
   },
   "outputs": [
    {
     "data": {
      "text/plain": [
       "['https://dailyiowan.com/category/news/',\n",
       " 'https://dailyiowan.com/category/news/page/2/',\n",
       " 'https://dailyiowan.com/category/news/page/3/',\n",
       " 'https://dailyiowan.com/category/news/page/4/',\n",
       " 'https://dailyiowan.com/category/news/page/5/',\n",
       " 'https://dailyiowan.com/category/news/page/6/',\n",
       " 'https://dailyiowan.com/category/news/page/7/',\n",
       " 'https://dailyiowan.com/category/news/page/8/',\n",
       " 'https://dailyiowan.com/category/news/page/9/']"
      ]
     },
     "execution_count": 6,
     "metadata": {},
     "output_type": "execute_result"
    }
   ],
   "source": [
    "urls = [\"https://dailyiowan.com/category/news/\"]\n",
    "\n",
    "for i in range(2, 10):     # The range(2, 10) generates a list of integers from 2 to 9.\n",
    "    url = \"https://dailyiowan.com/category/news/page/{}/\".format(i)\n",
    "    urls.append(url)\n",
    "\n",
    "urls    "
   ]
  },
  {
   "cell_type": "code",
   "execution_count": 8,
   "metadata": {},
   "outputs": [],
   "source": [
    "import os\n",
    "if not os.path.isdir(\"Outcome/HTMLs\"):\n",
    "    os.mkdir(\"Outcome/HTMLs\")"
   ]
  },
  {
   "cell_type": "code",
   "execution_count": 9,
   "metadata": {},
   "outputs": [],
   "source": [
    "import time"
   ]
  },
  {
   "cell_type": "markdown",
   "metadata": {},
   "source": [
    "This will print each page link with titles of the articles on it"
   ]
  },
  {
   "cell_type": "code",
   "execution_count": 12,
   "metadata": {
    "scrolled": true
   },
   "outputs": [
    {
     "name": "stdout",
     "output_type": "stream",
     "text": [
      "https://dailyiowan.com/category/news/\n",
      "\n",
      "https://dailyiowan.com/category/news/page/2/\n",
      "- reynolds-restricts-gatherings-to-immediate-household-members-in-northeast-iowa-region.html saved.\n",
      "- ui-preparing-to-open-up-grant-process-to-allocate-funds-from-utility-system-public-private-partnership.html saved.\n",
      "- ui-health-care-begins-convalescent-plasma-clinical-trial-for-covid-19-patients.html saved.\n",
      "- blotter-april-13-15.html saved.\n",
      "- ui-to-host-mental-health-online-panel-for-student-support-during-covid-19.html saved.\n",
      "- iowa-director-of-human-services-says-domestic-violence-reports-are-decreasing-but-the-violence-is-not.html saved.\n",
      "- iowas-public-universities-future-funding-uncertain-as-coronavirus-strains-state-economy.html saved.\n",
      "- university-of-iowa-faculty-council-voices-concern-on-fall-semester-tenure.html saved.\n",
      "- how-the-ui-moved-to-virtual-instruction-in-a-matter-of-weeks.html saved.\n",
      "- ui-openhawks-grants-help-faculty-create-open-resource-textbooks-tailor-fit-for-their-courses.html saved.\n",
      "- johnson-county-scales-up-covid-19-contact-tracing-in-public-health-department-as-iowas-cases-steadily-increase.html saved.\n",
      "- ui-health-care-receives-2-million-donation-to-fund-covid-19-expenses.html saved.\n",
      "\n",
      "https://dailyiowan.com/category/news/page/3/\n",
      "- 189-new-covid-19-cases-confirmed-in-iowa-the-most-for-a-single-day.html saved.\n",
      "- social-workers-child-welfare-services-fight-for-child-safety-and-family-support-during-covid-19.html saved.\n",
      "- fulbright-scholars-return-home-after-trips-abroad-cut-short-by-covid-19-spread.html saved.\n",
      "- coralville-woman-charged-with-leaving-meth-within-proximity-of-a-child.html saved.\n",
      "- swisher-man-accused-of-threatening-man-with-a-shotgun.html saved.\n",
      "- cedar-rapids-man-accused-of-fleeing-police-going-55-mph-over-speed-limit.html saved.\n",
      "- blotter-april-10-12.html saved.\n",
      "- gov-kim-reynolds-plans-to-release-internal-covid-19-models-between-the-university-of-iowa-college-of-public-health-and-the-state-at-some-point.html saved.\n",
      "- ui-health-care-tightens-restrictions-on-patient-visitation.html saved.\n",
      "- johnson-county-sheriffs-office-investigates-death-of-15-year-old.html saved.\n",
      "- virtual-learning-changes-how-professors-test-students.html saved.\n",
      "- zoombombing-disrupts-online-connections-as-university-of-iowa-classes-government-meetings-move-online.html saved.\n",
      "\n",
      "https://dailyiowan.com/category/news/page/4/\n",
      "- final-semesters-derailed-iowa-citys-high-school-seniors-prepare-for-life-after-high-school.html saved.\n",
      "- iowa-city-animal-shelter-helps-pet-owners-take-care-of-pets-during-covid-19.html saved.\n",
      "- covid-19-knocks-freshman-year-off-course-for-university-of-iowa-students.html saved.\n",
      "- on-the-record-april-11-2020.html saved.\n",
      "- trial-for-man-accused-of-killing-mollie-tibbetts-scheduled-for-september.html saved.\n",
      "- after-27-years-iowa-city-party-destination-union-bar-to-close-its-doors.html saved.\n",
      "- iowa-health-officials-issue-ppe-shortage-order.html saved.\n",
      "- city-of-iowa-city-recommends-face-masks-for-transit-riders.html saved.\n",
      "- iowa-supreme-court-affirms-conviction-of-man-imprisoned-for-ped-mall-shooting.html saved.\n",
      "- iowa-law-enforcement-officials-change-operations-to-prevent-covid-19-outbreak-in-johnson-county-jail-correctional-facilities.html saved.\n",
      "- coralville-man-accused-of-intimidation-with-a-dangerous-weapon.html saved.\n",
      "- coralville-man-accused-of-giving-a-weapon-to-a-minor.html saved.\n",
      "\n",
      "https://dailyiowan.com/category/news/page/5/\n",
      "- iowa-city-man-accused-of-burglary-told-officers-he-was-the-messiah.html saved.\n",
      "- blotter-april-6-9.html saved.\n",
      "- hawks-helping-hawks-ic-errand-ers-deliver-groceries-to-those-at-risk-for-covid-19.html saved.\n",
      "- johnson-county-sheriffs-office-seeks-help-finding-missing-child.html saved.\n",
      "- iowa-ad-gary-barta-anticipates-financial-changes-within-athletic-department-amid-covid-19.html saved.\n",
      "- gov-kim-reynolds-touts-iowas-unemployment-benefits-and-ability-to-treat-covid-19-patients.html saved.\n",
      "- iowa-city-supporters-hopeful-for-progressive-movement-after-bernie-sanders-exits-race.html saved.\n",
      "- ui-school-of-music-and-west-music-partner-to-deliver-pianos-to-students.html saved.\n",
      "- regina-high-school-community-remembers-beloved-coach-d-who-died-from-coronavirus.html saved.\n",
      "- iowa-youth-writing-project-aims-to-inspire-k-12-students-digitally-as-schools-are-closed.html saved.\n",
      "- werq-from-home-and-zumba-via-zoom-ui-recreational-services-transitions-classes-online.html saved.\n",
      "- university-of-iowa-senior-creates-web-page-mapping-out-meal-locations-for-those-in-need.html saved.\n",
      "\n",
      "https://dailyiowan.com/category/news/page/6/\n",
      "- small-businesses-in-iowa-asking-for-148-million-in-state-aid.html saved.\n",
      "- bernie-sanders-exits-presidential-race-leaves-joe-biden-as-the-presumptive-nominee.html saved.\n",
      "- university-of-iowa-seniors-may-participate-in-fall-2020-or-spring-2021-commencement-ceremonies.html saved.\n",
      "- iowa-city-police-respond-to-second-report-of-shots-fired-this-week.html saved.\n",
      "- iowa-city-city-council-votes-to-pay-temporary-employees-until-may-16.html saved.\n",
      "- city-council-spikes-solar-energy-project-in-waterworks-prairie-park.html saved.\n",
      "- life-through-a-new-lens.html saved.\n",
      "- ui-professor-researches-how-to-cope-with-the-stress-of-working-from-home.html saved.\n",
      "- empty-university-of-iowa-campus-iowa-city-eerie-for-those-in-town.html saved.\n",
      "- johnson-county-hospitals-confident-in-ventilator-supply-leaders-say.html saved.\n",
      "- ui-and-university-of-georgia-developed-mers-vaccine-tested-in-mice-potentially-promising-covid-19-vaccine.html saved.\n",
      "- reynolds-says-iowa-hospitals-equipped-to-handle-surge-of-covid-19-patients.html saved.\n",
      "\n",
      "https://dailyiowan.com/category/news/page/7/\n"
     ]
    },
    {
     "name": "stderr",
     "output_type": "stream",
     "text": [
      "Some characters could not be decoded, and were replaced with REPLACEMENT CHARACTER.\n"
     ]
    },
    {
     "name": "stdout",
     "output_type": "stream",
     "text": [
      "- iowa-city-police-respond-to-reports-of-shots-fired-monday-night.html saved.\n",
      "- university-of-iowa-med-student-run-mobile-clinic-offers-free-tele-medicine-amid-covid-19-pandemic.html saved.\n",
      "- uihc-joins-international-clinical-trial-for-drug-to-treat-covid-19.html saved.\n",
      "- faith-will-not-be-canceled-places-of-worship-work-to-digitize-practices-maintain-community-amid-covid-19.html saved.\n",
      "- reynolds-orders-further-closure-of-businesses.html saved.\n",
      "- ui-undergrads-elect-connor-and-mara-ticket-27-at-large-and-constituency-senators.html saved.\n",
      "- university-of-iowa-organizations-iowa-community-members-answer-uihc-call-for-hospital-equipment.html saved.\n",
      "- ui-science-students-adapt-to-online-classes-loss-of-in-person-labs.html saved.\n",
      "- local-pharmacies-struggle-to-attain-personal-protective-equipment-amid-covid-19-pandemic.html saved.\n",
      "- coralville-man-charged-with-assaulting-mother-of-his-child.html saved.\n",
      "- iowa-city-woman-charged-with-throwing-feces-at-johnson-county-jail-staff-member.html saved.\n",
      "- cedar-rapids-woman-charged-with-marijuana-possession.html saved.\n",
      "\n",
      "https://dailyiowan.com/category/news/page/8/\n",
      "- blotter-april-2-5.html saved.\n",
      "- first-covid-19-death-reported-in-johnson-county.html saved.\n",
      "- fema-to-send-iowa-over-44-million-for-reimbursement-of-covid-19-response-expenses.html saved.\n",
      "- reports-of-gunshots-at-the-quarters.html saved.\n",
      "- johnson-county-officials-say-iowas-covid-19-mitigation-memo-is-one-of-many-response-tools.html saved.\n",
      "- iowa-grad-matthew-mcdermott-appointed-to-iowa-supreme-court.html saved.\n",
      "- reynolds-remains-fixed-against-shelter-in-place-order.html saved.\n",
      "- university-of-iowa-hospitals-and-clinics-launches-virtual-hospital-to-treat-covid-19-patients.html saved.\n",
      "- on-the-record-april-3-2020.html saved.\n",
      "- ui-cancels-summer-programming-through-june-13.html saved.\n",
      "- university-of-iowa-provost-reports-equity-gap-in-first-generation-student-outcomes.html saved.\n",
      "- johnson-county-board-of-supervisors-limit-public-access-to-courthouse.html saved.\n",
      "\n",
      "https://dailyiowan.com/category/news/page/9/\n",
      "- parents-help-kids-learn-from-home-as-school-closures-are-extended.html saved.\n",
      "- gov-kim-reynolds-extends-school-closures-suspensions-of-nonessential-businesses-until-april-30.html saved.\n",
      "- covid-19-postpones-internships-and-study-abroad-programs.html saved.\n",
      "- state-licensing-restricts-some-nonresident-students-access-to-ui-tele-mental-health-services.html saved.\n",
      "- iowa-city-grocers-make-changes-to-stay-open-during-covid-19-pandemic.html saved.\n",
      "- covid-19-and-distance-learning-affect-student-teaching-experience.html saved.\n",
      "- usg-passes-bill-allows-executives-to-move-funds-to-emergency-support-fund.html saved.\n",
      "- campaigns-continue-virtually-through-the-covid-19-pandemic.html saved.\n",
      "- ui-health-care-leaders-say-covid-19-takes-financial-toll-on-system-focused-on-resources-for-patients-staff.html saved.\n",
      "- iowa-governor-says-medical-institutes-covid-19-projection-based-on-faulty-assumptions.html saved.\n",
      "- mike-richards-patty-cownie-reappointed-to-iowa-regents-leadership-posts.html saved.\n",
      "- ui-shared-governance-leaders-ask-board-of-regents-to-consider-covid-19-impact-on-salary-policies.html saved.\n",
      "\n"
     ]
    }
   ],
   "source": [
    "for url in urls:\n",
    "    print(url)\n",
    "    \n",
    "    ####################################################\n",
    "    # Get the content of a page\n",
    "    ####################################################\n",
    "    r = requests.get(url)\n",
    "    soup = BeautifulSoup(r.content, \"html.parser\")\n",
    "    \n",
    "    ####################################################\n",
    "    # Get the list of articles\n",
    "    ####################################################\n",
    "    h2_list = soup.find_all(name=\"h2\", attrs={\"class\": \"searchheadline\"})\n",
    "    \n",
    "    for h2 in h2_list:\n",
    "        ####################################################\n",
    "        # Find the anchor tag\n",
    "        ####################################################\n",
    "        a = h2.find(\"a\")\n",
    "        \n",
    "        ####################################################\n",
    "        # Extract the title & URL of an article\n",
    "        ####################################################\n",
    "        title = a.text\n",
    "        article_url = a[\"href\"]\n",
    "        \n",
    "        ####################################################\n",
    "        # Fetch the content and save it as an HTML file\n",
    "        ####################################################\n",
    "        r2 = requests.get(article_url)\n",
    "                \n",
    "        file_name = article_url[len(\"https://dailyiowan.com/category/news/\") -3:-1] + \".html\"\n",
    "        with open(\"Outcome/HTMLs/\" + file_name, \"w+b\") as fw:\n",
    "            fw.write(r2.content)\n",
    "        \n",
    "        print(\"- \" + file_name + \" saved.\")\n",
    "        \n",
    "        ####################################################\n",
    "        # Sleep for a second\n",
    "        ####################################################\n",
    "        time.sleep(.3)\n",
    "    \n",
    "    print()"
   ]
  },
  {
   "cell_type": "markdown",
   "metadata": {},
   "source": [
    "This will write the the HTMLs to the outcome folder "
   ]
  }
 ],
 "metadata": {
  "kernelspec": {
   "display_name": "Python 3",
   "language": "python",
   "name": "python3"
  },
  "language_info": {
   "codemirror_mode": {
    "name": "ipython",
    "version": 3
   },
   "file_extension": ".py",
   "mimetype": "text/x-python",
   "name": "python",
   "nbconvert_exporter": "python",
   "pygments_lexer": "ipython3",
   "version": "3.7.6"
  }
 },
 "nbformat": 4,
 "nbformat_minor": 4
}
