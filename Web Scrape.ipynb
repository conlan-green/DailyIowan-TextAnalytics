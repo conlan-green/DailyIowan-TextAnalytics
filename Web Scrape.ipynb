{
 "cells": [
  {
   "cell_type": "markdown",
   "metadata": {},
   "source": [
    "# Web Scraping from the Daily Iowan"
   ]
  },
  {
   "cell_type": "code",
   "execution_count": null,
   "metadata": {},
   "outputs": [],
   "source": [
    "#necessary libraries\n",
    "\n",
    "import requests\n",
    "from bs4 import BeautifulSoup"
   ]
  },
  {
   "cell_type": "markdown",
   "metadata": {},
   "source": [
    "saving all necessary urls that contain articles"
   ]
  },
  {
   "cell_type": "code",
   "execution_count": null,
   "metadata": {},
   "outputs": [],
   "source": [
    "urls = [\"https://dailyiowan.com/category/news/\"]\n",
    "\n",
    "for i in range(2, 1502):     # The range(2, 10) generates a list of integers from 2 to 9.\n",
    "    url = \"https://dailyiowan.com/category/news/page/{}/\".format(i)\n",
    "    urls.append(url)\n",
    "\n",
    "urls    "
   ]
  },
  {
   "cell_type": "markdown",
   "metadata": {},
   "source": [
    "Import more libraries that are needed to create local html files"
   ]
  },
  {
   "cell_type": "code",
   "execution_count": null,
   "metadata": {},
   "outputs": [],
   "source": [
    "import os\n",
    "if not os.path.isdir(\"outcome/HTMLs\"):\n",
    "    os.mkdir(\"outcome/HTMLs\")"
   ]
  },
  {
   "cell_type": "code",
   "execution_count": null,
   "metadata": {},
   "outputs": [],
   "source": [
    "import time"
   ]
  },
  {
   "cell_type": "markdown",
   "metadata": {},
   "source": [
    "Loops through urls to create html copies of all articles"
   ]
  },
  {
   "cell_type": "code",
   "execution_count": null,
   "metadata": {},
   "outputs": [],
   "source": [
    "for url in urls:\n",
    "    print(url)\n",
    "    \n",
    "    ####################################################\n",
    "    # Get the content of a page\n",
    "    ####################################################\n",
    "    r = requests.get(url)\n",
    "    soup = BeautifulSoup(r.content, \"html.parser\")\n",
    "    \n",
    "    ####################################################\n",
    "    # Get the list of articles\n",
    "    ####################################################\n",
    "    h2_list = soup.find_all(name=\"h2\", attrs={\"class\": \"searchheadline\"})\n",
    "    \n",
    "    for h2 in h2_list:\n",
    "        ####################################################\n",
    "        # Find the anchor tag\n",
    "        ####################################################\n",
    "        a = h2.find(\"a\")\n",
    "        \n",
    "        ####################################################\n",
    "        # Extract the title & URL of an article\n",
    "        ####################################################\n",
    "        title = a.text\n",
    "        article_url = a[\"href\"]\n",
    "        \n",
    "        ####################################################\n",
    "        # Fetch the content and save it as an HTML file\n",
    "        ####################################################\n",
    "        r2 = requests.get(article_url)\n",
    "                \n",
    "        file_name = article_url[len(\"https://dailyiowan.com/category/news/\") -3:-1] + \".html\"\n",
    "        with open(\"outcome/HTMLs/\" + file_name, \"w+b\") as fw:\n",
    "            fw.write(r2.content)\n",
    "        \n",
    "        print(\"- \" + file_name + \" saved.\")\n",
    "        \n",
    "        ####################################################\n",
    "        # Sleep for a second\n",
    "        ####################################################\n",
    "        time.sleep(.3)\n",
    "    \n",
    "    print()"
   ]
  },
  {
   "cell_type": "code",
   "execution_count": null,
   "metadata": {},
   "outputs": [],
   "source": [
    "#article_url\n",
    "#h2_list"
   ]
  }
 ],
 "metadata": {
  "kernelspec": {
   "display_name": "Python 3",
   "language": "python",
   "name": "python3"
  },
  "language_info": {
   "codemirror_mode": {
    "name": "ipython",
    "version": 3
   },
   "file_extension": ".py",
   "mimetype": "text/x-python",
   "name": "python",
   "nbconvert_exporter": "python",
   "pygments_lexer": "ipython3",
   "version": "3.7.4"
  }
 },
 "nbformat": 4,
 "nbformat_minor": 2
}
